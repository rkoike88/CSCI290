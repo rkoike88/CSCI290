{
  "cells": [
    {
      "cell_type": "markdown",
      "id": "76664f2c",
      "metadata": {
        "id": "76664f2c"
      },
      "source": [
        "<a href=\"https://colab.research.google.com/github/run-llama/llama_index/blob/main/docs/docs/examples/usecases/10k_sub_question.ipynb\" target=\"_parent\"><img src=\"https://colab.research.google.com/assets/colab-badge.svg\" alt=\"Open In Colab\"/></a>"
      ]
    },
    {
      "cell_type": "markdown",
      "id": "0f67904b-5fd6-443f-bf10-d49a69b25fcd",
      "metadata": {
        "id": "0f67904b-5fd6-443f-bf10-d49a69b25fcd"
      },
      "source": [
        "# 10K Analysis\n",
        "In this demo, we explore answering complex queries by decomposing them into simpler sub-queries."
      ]
    },
    {
      "cell_type": "markdown",
      "id": "f288c1af",
      "metadata": {
        "id": "f288c1af"
      },
      "source": [
        "If you're opening this Notebook on colab, you will probably need to install LlamaIndex 🦙."
      ]
    },
    {
      "cell_type": "code",
      "execution_count": 1,
      "id": "cfc3c897",
      "metadata": {
        "id": "cfc3c897",
        "outputId": "13f734c7-0c56-4494-93e6-93c335411982",
        "colab": {
          "base_uri": "https://localhost:8080/"
        }
      },
      "outputs": [
        {
          "output_type": "stream",
          "name": "stdout",
          "text": [
            "Collecting llama-index-llms-openai\n",
            "  Downloading llama_index_llms_openai-0.3.10-py3-none-any.whl.metadata (3.3 kB)\n",
            "Collecting llama-index-core<0.13.0,>=0.12.4 (from llama-index-llms-openai)\n",
            "  Downloading llama_index_core-0.12.5-py3-none-any.whl.metadata (2.5 kB)\n",
            "Collecting openai<2.0.0,>=1.57.1 (from llama-index-llms-openai)\n",
            "  Downloading openai-1.57.4-py3-none-any.whl.metadata (24 kB)\n",
            "Requirement already satisfied: PyYAML>=6.0.1 in /usr/local/lib/python3.10/dist-packages (from llama-index-core<0.13.0,>=0.12.4->llama-index-llms-openai) (6.0.2)\n",
            "Requirement already satisfied: SQLAlchemy>=1.4.49 in /usr/local/lib/python3.10/dist-packages (from SQLAlchemy[asyncio]>=1.4.49->llama-index-core<0.13.0,>=0.12.4->llama-index-llms-openai) (2.0.36)\n",
            "Requirement already satisfied: aiohttp<4.0.0,>=3.8.6 in /usr/local/lib/python3.10/dist-packages (from llama-index-core<0.13.0,>=0.12.4->llama-index-llms-openai) (3.11.10)\n",
            "Collecting dataclasses-json (from llama-index-core<0.13.0,>=0.12.4->llama-index-llms-openai)\n",
            "  Downloading dataclasses_json-0.6.7-py3-none-any.whl.metadata (25 kB)\n",
            "Requirement already satisfied: deprecated>=1.2.9.3 in /usr/local/lib/python3.10/dist-packages (from llama-index-core<0.13.0,>=0.12.4->llama-index-llms-openai) (1.2.15)\n",
            "Collecting dirtyjson<2.0.0,>=1.0.8 (from llama-index-core<0.13.0,>=0.12.4->llama-index-llms-openai)\n",
            "  Downloading dirtyjson-1.0.8-py3-none-any.whl.metadata (11 kB)\n",
            "Collecting filetype<2.0.0,>=1.2.0 (from llama-index-core<0.13.0,>=0.12.4->llama-index-llms-openai)\n",
            "  Downloading filetype-1.2.0-py2.py3-none-any.whl.metadata (6.5 kB)\n",
            "Requirement already satisfied: fsspec>=2023.5.0 in /usr/local/lib/python3.10/dist-packages (from llama-index-core<0.13.0,>=0.12.4->llama-index-llms-openai) (2024.10.0)\n",
            "Requirement already satisfied: httpx in /usr/local/lib/python3.10/dist-packages (from llama-index-core<0.13.0,>=0.12.4->llama-index-llms-openai) (0.28.1)\n",
            "Requirement already satisfied: nest-asyncio<2.0.0,>=1.5.8 in /usr/local/lib/python3.10/dist-packages (from llama-index-core<0.13.0,>=0.12.4->llama-index-llms-openai) (1.6.0)\n",
            "Requirement already satisfied: networkx>=3.0 in /usr/local/lib/python3.10/dist-packages (from llama-index-core<0.13.0,>=0.12.4->llama-index-llms-openai) (3.4.2)\n",
            "Requirement already satisfied: nltk>3.8.1 in /usr/local/lib/python3.10/dist-packages (from llama-index-core<0.13.0,>=0.12.4->llama-index-llms-openai) (3.9.1)\n",
            "Requirement already satisfied: numpy in /usr/local/lib/python3.10/dist-packages (from llama-index-core<0.13.0,>=0.12.4->llama-index-llms-openai) (1.26.4)\n",
            "Requirement already satisfied: pillow>=9.0.0 in /usr/local/lib/python3.10/dist-packages (from llama-index-core<0.13.0,>=0.12.4->llama-index-llms-openai) (11.0.0)\n",
            "Requirement already satisfied: pydantic>=2.8.0 in /usr/local/lib/python3.10/dist-packages (from llama-index-core<0.13.0,>=0.12.4->llama-index-llms-openai) (2.10.3)\n",
            "Requirement already satisfied: requests>=2.31.0 in /usr/local/lib/python3.10/dist-packages (from llama-index-core<0.13.0,>=0.12.4->llama-index-llms-openai) (2.32.3)\n",
            "Requirement already satisfied: tenacity!=8.4.0,<10.0.0,>=8.2.0 in /usr/local/lib/python3.10/dist-packages (from llama-index-core<0.13.0,>=0.12.4->llama-index-llms-openai) (9.0.0)\n",
            "Collecting tiktoken>=0.3.3 (from llama-index-core<0.13.0,>=0.12.4->llama-index-llms-openai)\n",
            "  Downloading tiktoken-0.8.0-cp310-cp310-manylinux_2_17_x86_64.manylinux2014_x86_64.whl.metadata (6.6 kB)\n",
            "Requirement already satisfied: tqdm<5.0.0,>=4.66.1 in /usr/local/lib/python3.10/dist-packages (from llama-index-core<0.13.0,>=0.12.4->llama-index-llms-openai) (4.66.6)\n",
            "Requirement already satisfied: typing-extensions>=4.5.0 in /usr/local/lib/python3.10/dist-packages (from llama-index-core<0.13.0,>=0.12.4->llama-index-llms-openai) (4.12.2)\n",
            "Collecting typing-inspect>=0.8.0 (from llama-index-core<0.13.0,>=0.12.4->llama-index-llms-openai)\n",
            "  Downloading typing_inspect-0.9.0-py3-none-any.whl.metadata (1.5 kB)\n",
            "Requirement already satisfied: wrapt in /usr/local/lib/python3.10/dist-packages (from llama-index-core<0.13.0,>=0.12.4->llama-index-llms-openai) (1.17.0)\n",
            "Requirement already satisfied: anyio<5,>=3.5.0 in /usr/local/lib/python3.10/dist-packages (from openai<2.0.0,>=1.57.1->llama-index-llms-openai) (3.7.1)\n",
            "Requirement already satisfied: distro<2,>=1.7.0 in /usr/local/lib/python3.10/dist-packages (from openai<2.0.0,>=1.57.1->llama-index-llms-openai) (1.9.0)\n",
            "Requirement already satisfied: jiter<1,>=0.4.0 in /usr/local/lib/python3.10/dist-packages (from openai<2.0.0,>=1.57.1->llama-index-llms-openai) (0.8.2)\n",
            "Requirement already satisfied: sniffio in /usr/local/lib/python3.10/dist-packages (from openai<2.0.0,>=1.57.1->llama-index-llms-openai) (1.3.1)\n",
            "Requirement already satisfied: aiohappyeyeballs>=2.3.0 in /usr/local/lib/python3.10/dist-packages (from aiohttp<4.0.0,>=3.8.6->llama-index-core<0.13.0,>=0.12.4->llama-index-llms-openai) (2.4.4)\n",
            "Requirement already satisfied: aiosignal>=1.1.2 in /usr/local/lib/python3.10/dist-packages (from aiohttp<4.0.0,>=3.8.6->llama-index-core<0.13.0,>=0.12.4->llama-index-llms-openai) (1.3.1)\n",
            "Requirement already satisfied: async-timeout<6.0,>=4.0 in /usr/local/lib/python3.10/dist-packages (from aiohttp<4.0.0,>=3.8.6->llama-index-core<0.13.0,>=0.12.4->llama-index-llms-openai) (4.0.3)\n",
            "Requirement already satisfied: attrs>=17.3.0 in /usr/local/lib/python3.10/dist-packages (from aiohttp<4.0.0,>=3.8.6->llama-index-core<0.13.0,>=0.12.4->llama-index-llms-openai) (24.2.0)\n",
            "Requirement already satisfied: frozenlist>=1.1.1 in /usr/local/lib/python3.10/dist-packages (from aiohttp<4.0.0,>=3.8.6->llama-index-core<0.13.0,>=0.12.4->llama-index-llms-openai) (1.5.0)\n",
            "Requirement already satisfied: multidict<7.0,>=4.5 in /usr/local/lib/python3.10/dist-packages (from aiohttp<4.0.0,>=3.8.6->llama-index-core<0.13.0,>=0.12.4->llama-index-llms-openai) (6.1.0)\n",
            "Requirement already satisfied: propcache>=0.2.0 in /usr/local/lib/python3.10/dist-packages (from aiohttp<4.0.0,>=3.8.6->llama-index-core<0.13.0,>=0.12.4->llama-index-llms-openai) (0.2.1)\n",
            "Requirement already satisfied: yarl<2.0,>=1.17.0 in /usr/local/lib/python3.10/dist-packages (from aiohttp<4.0.0,>=3.8.6->llama-index-core<0.13.0,>=0.12.4->llama-index-llms-openai) (1.18.3)\n",
            "Requirement already satisfied: idna>=2.8 in /usr/local/lib/python3.10/dist-packages (from anyio<5,>=3.5.0->openai<2.0.0,>=1.57.1->llama-index-llms-openai) (3.10)\n",
            "Requirement already satisfied: exceptiongroup in /usr/local/lib/python3.10/dist-packages (from anyio<5,>=3.5.0->openai<2.0.0,>=1.57.1->llama-index-llms-openai) (1.2.2)\n",
            "Requirement already satisfied: certifi in /usr/local/lib/python3.10/dist-packages (from httpx->llama-index-core<0.13.0,>=0.12.4->llama-index-llms-openai) (2024.8.30)\n",
            "Requirement already satisfied: httpcore==1.* in /usr/local/lib/python3.10/dist-packages (from httpx->llama-index-core<0.13.0,>=0.12.4->llama-index-llms-openai) (1.0.7)\n",
            "Requirement already satisfied: h11<0.15,>=0.13 in /usr/local/lib/python3.10/dist-packages (from httpcore==1.*->httpx->llama-index-core<0.13.0,>=0.12.4->llama-index-llms-openai) (0.14.0)\n",
            "Requirement already satisfied: click in /usr/local/lib/python3.10/dist-packages (from nltk>3.8.1->llama-index-core<0.13.0,>=0.12.4->llama-index-llms-openai) (8.1.7)\n",
            "Requirement already satisfied: joblib in /usr/local/lib/python3.10/dist-packages (from nltk>3.8.1->llama-index-core<0.13.0,>=0.12.4->llama-index-llms-openai) (1.4.2)\n",
            "Requirement already satisfied: regex>=2021.8.3 in /usr/local/lib/python3.10/dist-packages (from nltk>3.8.1->llama-index-core<0.13.0,>=0.12.4->llama-index-llms-openai) (2024.9.11)\n",
            "Requirement already satisfied: annotated-types>=0.6.0 in /usr/local/lib/python3.10/dist-packages (from pydantic>=2.8.0->llama-index-core<0.13.0,>=0.12.4->llama-index-llms-openai) (0.7.0)\n",
            "Requirement already satisfied: pydantic-core==2.27.1 in /usr/local/lib/python3.10/dist-packages (from pydantic>=2.8.0->llama-index-core<0.13.0,>=0.12.4->llama-index-llms-openai) (2.27.1)\n",
            "Requirement already satisfied: charset-normalizer<4,>=2 in /usr/local/lib/python3.10/dist-packages (from requests>=2.31.0->llama-index-core<0.13.0,>=0.12.4->llama-index-llms-openai) (3.4.0)\n",
            "Requirement already satisfied: urllib3<3,>=1.21.1 in /usr/local/lib/python3.10/dist-packages (from requests>=2.31.0->llama-index-core<0.13.0,>=0.12.4->llama-index-llms-openai) (2.2.3)\n",
            "Requirement already satisfied: greenlet!=0.4.17 in /usr/local/lib/python3.10/dist-packages (from SQLAlchemy>=1.4.49->SQLAlchemy[asyncio]>=1.4.49->llama-index-core<0.13.0,>=0.12.4->llama-index-llms-openai) (3.1.1)\n",
            "Collecting mypy-extensions>=0.3.0 (from typing-inspect>=0.8.0->llama-index-core<0.13.0,>=0.12.4->llama-index-llms-openai)\n",
            "  Downloading mypy_extensions-1.0.0-py3-none-any.whl.metadata (1.1 kB)\n",
            "Collecting marshmallow<4.0.0,>=3.18.0 (from dataclasses-json->llama-index-core<0.13.0,>=0.12.4->llama-index-llms-openai)\n",
            "  Downloading marshmallow-3.23.1-py3-none-any.whl.metadata (7.5 kB)\n",
            "Requirement already satisfied: packaging>=17.0 in /usr/local/lib/python3.10/dist-packages (from marshmallow<4.0.0,>=3.18.0->dataclasses-json->llama-index-core<0.13.0,>=0.12.4->llama-index-llms-openai) (24.2)\n",
            "Downloading llama_index_llms_openai-0.3.10-py3-none-any.whl (14 kB)\n",
            "Downloading llama_index_core-0.12.5-py3-none-any.whl (1.6 MB)\n",
            "\u001b[2K   \u001b[90m━━━━━━━━━━━━━━━━━━━━━━━━━━━━━━━━━━━━━━━━\u001b[0m \u001b[32m1.6/1.6 MB\u001b[0m \u001b[31m14.0 MB/s\u001b[0m eta \u001b[36m0:00:00\u001b[0m\n",
            "\u001b[?25hDownloading openai-1.57.4-py3-none-any.whl (390 kB)\n",
            "\u001b[2K   \u001b[90m━━━━━━━━━━━━━━━━━━━━━━━━━━━━━━━━━━━━━━━━\u001b[0m \u001b[32m390.3/390.3 kB\u001b[0m \u001b[31m25.9 MB/s\u001b[0m eta \u001b[36m0:00:00\u001b[0m\n",
            "\u001b[?25hDownloading dirtyjson-1.0.8-py3-none-any.whl (25 kB)\n",
            "Downloading filetype-1.2.0-py2.py3-none-any.whl (19 kB)\n",
            "Downloading tiktoken-0.8.0-cp310-cp310-manylinux_2_17_x86_64.manylinux2014_x86_64.whl (1.2 MB)\n",
            "\u001b[2K   \u001b[90m━━━━━━━━━━━━━━━━━━━━━━━━━━━━━━━━━━━━━━━━\u001b[0m \u001b[32m1.2/1.2 MB\u001b[0m \u001b[31m22.5 MB/s\u001b[0m eta \u001b[36m0:00:00\u001b[0m\n",
            "\u001b[?25hDownloading typing_inspect-0.9.0-py3-none-any.whl (8.8 kB)\n",
            "Downloading dataclasses_json-0.6.7-py3-none-any.whl (28 kB)\n",
            "Downloading marshmallow-3.23.1-py3-none-any.whl (49 kB)\n",
            "\u001b[2K   \u001b[90m━━━━━━━━━━━━━━━━━━━━━━━━━━━━━━━━━━━━━━━━\u001b[0m \u001b[32m49.5/49.5 kB\u001b[0m \u001b[31m2.6 MB/s\u001b[0m eta \u001b[36m0:00:00\u001b[0m\n",
            "\u001b[?25hDownloading mypy_extensions-1.0.0-py3-none-any.whl (4.7 kB)\n",
            "Installing collected packages: filetype, dirtyjson, mypy-extensions, marshmallow, typing-inspect, tiktoken, openai, dataclasses-json, llama-index-core, llama-index-llms-openai\n",
            "  Attempting uninstall: openai\n",
            "    Found existing installation: openai 1.54.5\n",
            "    Uninstalling openai-1.54.5:\n",
            "      Successfully uninstalled openai-1.54.5\n",
            "Successfully installed dataclasses-json-0.6.7 dirtyjson-1.0.8 filetype-1.2.0 llama-index-core-0.12.5 llama-index-llms-openai-0.3.10 marshmallow-3.23.1 mypy-extensions-1.0.0 openai-1.57.4 tiktoken-0.8.0 typing-inspect-0.9.0\n"
          ]
        }
      ],
      "source": [
        "%pip install llama-index-llms-openai"
      ]
    },
    {
      "cell_type": "code",
      "execution_count": 52,
      "id": "9828e56d",
      "metadata": {
        "id": "9828e56d",
        "outputId": "acf04686-357b-4d34-96bd-652936cdd106",
        "colab": {
          "base_uri": "https://localhost:8080/"
        }
      },
      "outputs": [
        {
          "output_type": "stream",
          "name": "stdout",
          "text": [
            "Requirement already satisfied: llama-index in /usr/local/lib/python3.10/dist-packages (0.12.5)\n",
            "Requirement already satisfied: llama-index-agent-openai<0.5.0,>=0.4.0 in /usr/local/lib/python3.10/dist-packages (from llama-index) (0.4.0)\n",
            "Requirement already satisfied: llama-index-cli<0.5.0,>=0.4.0 in /usr/local/lib/python3.10/dist-packages (from llama-index) (0.4.0)\n",
            "Requirement already satisfied: llama-index-core<0.13.0,>=0.12.5 in /usr/local/lib/python3.10/dist-packages (from llama-index) (0.12.5)\n",
            "Requirement already satisfied: llama-index-embeddings-openai<0.4.0,>=0.3.0 in /usr/local/lib/python3.10/dist-packages (from llama-index) (0.3.1)\n",
            "Requirement already satisfied: llama-index-indices-managed-llama-cloud>=0.4.0 in /usr/local/lib/python3.10/dist-packages (from llama-index) (0.6.3)\n",
            "Requirement already satisfied: llama-index-legacy<0.10.0,>=0.9.48 in /usr/local/lib/python3.10/dist-packages (from llama-index) (0.9.48.post4)\n",
            "Requirement already satisfied: llama-index-llms-openai<0.4.0,>=0.3.0 in /usr/local/lib/python3.10/dist-packages (from llama-index) (0.3.10)\n",
            "Requirement already satisfied: llama-index-multi-modal-llms-openai<0.5.0,>=0.4.0 in /usr/local/lib/python3.10/dist-packages (from llama-index) (0.4.0)\n",
            "Requirement already satisfied: llama-index-program-openai<0.4.0,>=0.3.0 in /usr/local/lib/python3.10/dist-packages (from llama-index) (0.3.1)\n",
            "Requirement already satisfied: llama-index-question-gen-openai<0.4.0,>=0.3.0 in /usr/local/lib/python3.10/dist-packages (from llama-index) (0.3.0)\n",
            "Requirement already satisfied: llama-index-readers-file<0.5.0,>=0.4.0 in /usr/local/lib/python3.10/dist-packages (from llama-index) (0.4.1)\n",
            "Requirement already satisfied: llama-index-readers-llama-parse>=0.4.0 in /usr/local/lib/python3.10/dist-packages (from llama-index) (0.4.0)\n",
            "Requirement already satisfied: nltk>3.8.1 in /usr/local/lib/python3.10/dist-packages (from llama-index) (3.9.1)\n",
            "Requirement already satisfied: openai>=1.14.0 in /usr/local/lib/python3.10/dist-packages (from llama-index-agent-openai<0.5.0,>=0.4.0->llama-index) (1.57.4)\n",
            "Requirement already satisfied: PyYAML>=6.0.1 in /usr/local/lib/python3.10/dist-packages (from llama-index-core<0.13.0,>=0.12.5->llama-index) (6.0.2)\n",
            "Requirement already satisfied: SQLAlchemy>=1.4.49 in /usr/local/lib/python3.10/dist-packages (from SQLAlchemy[asyncio]>=1.4.49->llama-index-core<0.13.0,>=0.12.5->llama-index) (2.0.36)\n",
            "Requirement already satisfied: aiohttp<4.0.0,>=3.8.6 in /usr/local/lib/python3.10/dist-packages (from llama-index-core<0.13.0,>=0.12.5->llama-index) (3.11.10)\n",
            "Requirement already satisfied: dataclasses-json in /usr/local/lib/python3.10/dist-packages (from llama-index-core<0.13.0,>=0.12.5->llama-index) (0.6.7)\n",
            "Requirement already satisfied: deprecated>=1.2.9.3 in /usr/local/lib/python3.10/dist-packages (from llama-index-core<0.13.0,>=0.12.5->llama-index) (1.2.15)\n",
            "Requirement already satisfied: dirtyjson<2.0.0,>=1.0.8 in /usr/local/lib/python3.10/dist-packages (from llama-index-core<0.13.0,>=0.12.5->llama-index) (1.0.8)\n",
            "Requirement already satisfied: filetype<2.0.0,>=1.2.0 in /usr/local/lib/python3.10/dist-packages (from llama-index-core<0.13.0,>=0.12.5->llama-index) (1.2.0)\n",
            "Requirement already satisfied: fsspec>=2023.5.0 in /usr/local/lib/python3.10/dist-packages (from llama-index-core<0.13.0,>=0.12.5->llama-index) (2024.10.0)\n",
            "Requirement already satisfied: httpx in /usr/local/lib/python3.10/dist-packages (from llama-index-core<0.13.0,>=0.12.5->llama-index) (0.28.1)\n",
            "Requirement already satisfied: nest-asyncio<2.0.0,>=1.5.8 in /usr/local/lib/python3.10/dist-packages (from llama-index-core<0.13.0,>=0.12.5->llama-index) (1.6.0)\n",
            "Requirement already satisfied: networkx>=3.0 in /usr/local/lib/python3.10/dist-packages (from llama-index-core<0.13.0,>=0.12.5->llama-index) (3.4.2)\n",
            "Requirement already satisfied: numpy in /usr/local/lib/python3.10/dist-packages (from llama-index-core<0.13.0,>=0.12.5->llama-index) (1.26.4)\n",
            "Requirement already satisfied: pillow>=9.0.0 in /usr/local/lib/python3.10/dist-packages (from llama-index-core<0.13.0,>=0.12.5->llama-index) (11.0.0)\n",
            "Requirement already satisfied: pydantic>=2.8.0 in /usr/local/lib/python3.10/dist-packages (from llama-index-core<0.13.0,>=0.12.5->llama-index) (2.10.3)\n",
            "Requirement already satisfied: requests>=2.31.0 in /usr/local/lib/python3.10/dist-packages (from llama-index-core<0.13.0,>=0.12.5->llama-index) (2.32.3)\n",
            "Requirement already satisfied: tenacity!=8.4.0,<10.0.0,>=8.2.0 in /usr/local/lib/python3.10/dist-packages (from llama-index-core<0.13.0,>=0.12.5->llama-index) (8.5.0)\n",
            "Requirement already satisfied: tiktoken>=0.3.3 in /usr/local/lib/python3.10/dist-packages (from llama-index-core<0.13.0,>=0.12.5->llama-index) (0.8.0)\n",
            "Requirement already satisfied: tqdm<5.0.0,>=4.66.1 in /usr/local/lib/python3.10/dist-packages (from llama-index-core<0.13.0,>=0.12.5->llama-index) (4.66.6)\n",
            "Requirement already satisfied: typing-extensions>=4.5.0 in /usr/local/lib/python3.10/dist-packages (from llama-index-core<0.13.0,>=0.12.5->llama-index) (4.12.2)\n",
            "Requirement already satisfied: typing-inspect>=0.8.0 in /usr/local/lib/python3.10/dist-packages (from llama-index-core<0.13.0,>=0.12.5->llama-index) (0.9.0)\n",
            "Requirement already satisfied: wrapt in /usr/local/lib/python3.10/dist-packages (from llama-index-core<0.13.0,>=0.12.5->llama-index) (1.17.0)\n",
            "Requirement already satisfied: llama-cloud>=0.1.5 in /usr/local/lib/python3.10/dist-packages (from llama-index-indices-managed-llama-cloud>=0.4.0->llama-index) (0.1.6)\n",
            "Requirement already satisfied: pandas in /usr/local/lib/python3.10/dist-packages (from llama-index-legacy<0.10.0,>=0.9.48->llama-index) (2.2.2)\n",
            "Requirement already satisfied: beautifulsoup4<5.0.0,>=4.12.3 in /usr/local/lib/python3.10/dist-packages (from llama-index-readers-file<0.5.0,>=0.4.0->llama-index) (4.12.3)\n",
            "Requirement already satisfied: pypdf<6.0.0,>=5.1.0 in /usr/local/lib/python3.10/dist-packages (from llama-index-readers-file<0.5.0,>=0.4.0->llama-index) (5.1.0)\n",
            "Requirement already satisfied: striprtf<0.0.27,>=0.0.26 in /usr/local/lib/python3.10/dist-packages (from llama-index-readers-file<0.5.0,>=0.4.0->llama-index) (0.0.26)\n",
            "Requirement already satisfied: llama-parse>=0.5.0 in /usr/local/lib/python3.10/dist-packages (from llama-index-readers-llama-parse>=0.4.0->llama-index) (0.5.17)\n",
            "Requirement already satisfied: click in /usr/local/lib/python3.10/dist-packages (from nltk>3.8.1->llama-index) (8.1.7)\n",
            "Requirement already satisfied: joblib in /usr/local/lib/python3.10/dist-packages (from nltk>3.8.1->llama-index) (1.4.2)\n",
            "Requirement already satisfied: regex>=2021.8.3 in /usr/local/lib/python3.10/dist-packages (from nltk>3.8.1->llama-index) (2024.9.11)\n",
            "Requirement already satisfied: aiohappyeyeballs>=2.3.0 in /usr/local/lib/python3.10/dist-packages (from aiohttp<4.0.0,>=3.8.6->llama-index-core<0.13.0,>=0.12.5->llama-index) (2.4.4)\n",
            "Requirement already satisfied: aiosignal>=1.1.2 in /usr/local/lib/python3.10/dist-packages (from aiohttp<4.0.0,>=3.8.6->llama-index-core<0.13.0,>=0.12.5->llama-index) (1.3.1)\n",
            "Requirement already satisfied: async-timeout<6.0,>=4.0 in /usr/local/lib/python3.10/dist-packages (from aiohttp<4.0.0,>=3.8.6->llama-index-core<0.13.0,>=0.12.5->llama-index) (4.0.3)\n",
            "Requirement already satisfied: attrs>=17.3.0 in /usr/local/lib/python3.10/dist-packages (from aiohttp<4.0.0,>=3.8.6->llama-index-core<0.13.0,>=0.12.5->llama-index) (24.2.0)\n",
            "Requirement already satisfied: frozenlist>=1.1.1 in /usr/local/lib/python3.10/dist-packages (from aiohttp<4.0.0,>=3.8.6->llama-index-core<0.13.0,>=0.12.5->llama-index) (1.5.0)\n",
            "Requirement already satisfied: multidict<7.0,>=4.5 in /usr/local/lib/python3.10/dist-packages (from aiohttp<4.0.0,>=3.8.6->llama-index-core<0.13.0,>=0.12.5->llama-index) (6.1.0)\n",
            "Requirement already satisfied: propcache>=0.2.0 in /usr/local/lib/python3.10/dist-packages (from aiohttp<4.0.0,>=3.8.6->llama-index-core<0.13.0,>=0.12.5->llama-index) (0.2.1)\n",
            "Requirement already satisfied: yarl<2.0,>=1.17.0 in /usr/local/lib/python3.10/dist-packages (from aiohttp<4.0.0,>=3.8.6->llama-index-core<0.13.0,>=0.12.5->llama-index) (1.18.3)\n",
            "Requirement already satisfied: soupsieve>1.2 in /usr/local/lib/python3.10/dist-packages (from beautifulsoup4<5.0.0,>=4.12.3->llama-index-readers-file<0.5.0,>=0.4.0->llama-index) (2.6)\n",
            "Requirement already satisfied: anyio in /usr/local/lib/python3.10/dist-packages (from httpx->llama-index-core<0.13.0,>=0.12.5->llama-index) (3.7.1)\n",
            "Requirement already satisfied: certifi in /usr/local/lib/python3.10/dist-packages (from httpx->llama-index-core<0.13.0,>=0.12.5->llama-index) (2024.8.30)\n",
            "Requirement already satisfied: httpcore==1.* in /usr/local/lib/python3.10/dist-packages (from httpx->llama-index-core<0.13.0,>=0.12.5->llama-index) (1.0.7)\n",
            "Requirement already satisfied: idna in /usr/local/lib/python3.10/dist-packages (from httpx->llama-index-core<0.13.0,>=0.12.5->llama-index) (3.10)\n",
            "Requirement already satisfied: h11<0.15,>=0.13 in /usr/local/lib/python3.10/dist-packages (from httpcore==1.*->httpx->llama-index-core<0.13.0,>=0.12.5->llama-index) (0.14.0)\n",
            "Requirement already satisfied: distro<2,>=1.7.0 in /usr/local/lib/python3.10/dist-packages (from openai>=1.14.0->llama-index-agent-openai<0.5.0,>=0.4.0->llama-index) (1.9.0)\n",
            "Requirement already satisfied: jiter<1,>=0.4.0 in /usr/local/lib/python3.10/dist-packages (from openai>=1.14.0->llama-index-agent-openai<0.5.0,>=0.4.0->llama-index) (0.8.2)\n",
            "Requirement already satisfied: sniffio in /usr/local/lib/python3.10/dist-packages (from openai>=1.14.0->llama-index-agent-openai<0.5.0,>=0.4.0->llama-index) (1.3.1)\n",
            "Requirement already satisfied: annotated-types>=0.6.0 in /usr/local/lib/python3.10/dist-packages (from pydantic>=2.8.0->llama-index-core<0.13.0,>=0.12.5->llama-index) (0.7.0)\n",
            "Requirement already satisfied: pydantic-core==2.27.1 in /usr/local/lib/python3.10/dist-packages (from pydantic>=2.8.0->llama-index-core<0.13.0,>=0.12.5->llama-index) (2.27.1)\n",
            "Requirement already satisfied: charset-normalizer<4,>=2 in /usr/local/lib/python3.10/dist-packages (from requests>=2.31.0->llama-index-core<0.13.0,>=0.12.5->llama-index) (3.4.0)\n",
            "Requirement already satisfied: urllib3<3,>=1.21.1 in /usr/local/lib/python3.10/dist-packages (from requests>=2.31.0->llama-index-core<0.13.0,>=0.12.5->llama-index) (2.2.3)\n",
            "Requirement already satisfied: greenlet!=0.4.17 in /usr/local/lib/python3.10/dist-packages (from SQLAlchemy>=1.4.49->SQLAlchemy[asyncio]>=1.4.49->llama-index-core<0.13.0,>=0.12.5->llama-index) (3.1.1)\n",
            "Requirement already satisfied: mypy-extensions>=0.3.0 in /usr/local/lib/python3.10/dist-packages (from typing-inspect>=0.8.0->llama-index-core<0.13.0,>=0.12.5->llama-index) (1.0.0)\n",
            "Requirement already satisfied: marshmallow<4.0.0,>=3.18.0 in /usr/local/lib/python3.10/dist-packages (from dataclasses-json->llama-index-core<0.13.0,>=0.12.5->llama-index) (3.23.1)\n",
            "Requirement already satisfied: python-dateutil>=2.8.2 in /usr/local/lib/python3.10/dist-packages (from pandas->llama-index-legacy<0.10.0,>=0.9.48->llama-index) (2.8.2)\n",
            "Requirement already satisfied: pytz>=2020.1 in /usr/local/lib/python3.10/dist-packages (from pandas->llama-index-legacy<0.10.0,>=0.9.48->llama-index) (2024.2)\n",
            "Requirement already satisfied: tzdata>=2022.7 in /usr/local/lib/python3.10/dist-packages (from pandas->llama-index-legacy<0.10.0,>=0.9.48->llama-index) (2024.2)\n",
            "Requirement already satisfied: exceptiongroup in /usr/local/lib/python3.10/dist-packages (from anyio->httpx->llama-index-core<0.13.0,>=0.12.5->llama-index) (1.2.2)\n",
            "Requirement already satisfied: packaging>=17.0 in /usr/local/lib/python3.10/dist-packages (from marshmallow<4.0.0,>=3.18.0->dataclasses-json->llama-index-core<0.13.0,>=0.12.5->llama-index) (24.2)\n",
            "Requirement already satisfied: six>=1.5 in /usr/local/lib/python3.10/dist-packages (from python-dateutil>=2.8.2->pandas->llama-index-legacy<0.10.0,>=0.9.48->llama-index) (1.17.0)\n",
            "\u001b[31mERROR: Could not find a version that satisfies the requirement llama-index.response (from versions: none)\u001b[0m\u001b[31m\n",
            "\u001b[0m\u001b[31mERROR: No matching distribution found for llama-index.response\u001b[0m\u001b[31m\n",
            "\u001b[0m"
          ]
        }
      ],
      "source": [
        "!pip install llama-index\n",
        "!pip install llama-index.response"
      ]
    },
    {
      "cell_type": "code",
      "execution_count": 3,
      "id": "cdf1e9b6-0f51-49df-a11d-50ba6a014f4d",
      "metadata": {
        "id": "cdf1e9b6-0f51-49df-a11d-50ba6a014f4d"
      },
      "outputs": [],
      "source": [
        "import nest_asyncio\n",
        "\n",
        "nest_asyncio.apply()"
      ]
    },
    {
      "cell_type": "code",
      "execution_count": 53,
      "id": "09fbec4c-1864-4d76-9dbf-3d213ba58fc8",
      "metadata": {
        "id": "09fbec4c-1864-4d76-9dbf-3d213ba58fc8"
      },
      "outputs": [],
      "source": [
        "\"\"\"from llama_index.core import SimpleDirectoryReader, VectorStoreIndex\n",
        "from llama_index.llms.openai import OpenAI \"\"\"\n",
        "from llama_index.core import SimpleDirectoryReader, VectorStoreIndex, ServiceContext\n",
        "from llama_index.llms.openai import OpenAI\n",
        "from llama_index.core.response.notebook_utils import display_response\n",
        "from IPython.display import Markdown, display\n",
        "\n",
        "from llama_index.core.tools import QueryEngineTool, ToolMetadata\n",
        "from llama_index.core.query_engine import SubQuestionQueryEngine"
      ]
    },
    {
      "cell_type": "markdown",
      "id": "c743f504-f28c-4802-89b6-ad152b74b0eb",
      "metadata": {
        "id": "c743f504-f28c-4802-89b6-ad152b74b0eb"
      },
      "source": [
        "## Configure LLM service"
      ]
    },
    {
      "cell_type": "code",
      "execution_count": 59,
      "id": "4c052250",
      "metadata": {
        "id": "4c052250",
        "outputId": "062fc9b0-f08b-49b9-d0a4-20da9d6890cb",
        "colab": {
          "base_uri": "https://localhost:8080/",
          "height": 211
        }
      },
      "outputs": [
        {
          "output_type": "error",
          "ename": "NameError",
          "evalue": "name 'llm' is not defined",
          "traceback": [
            "\u001b[0;31m---------------------------------------------------------------------------\u001b[0m",
            "\u001b[0;31mNameError\u001b[0m                                 Traceback (most recent call last)",
            "\u001b[0;32m<ipython-input-59-9a8ad54d9bdf>\u001b[0m in \u001b[0;36m<cell line: 4>\u001b[0;34m()\u001b[0m\n\u001b[1;32m      2\u001b[0m \u001b[0;32mfrom\u001b[0m \u001b[0mgoogle\u001b[0m\u001b[0;34m.\u001b[0m\u001b[0mcolab\u001b[0m \u001b[0;32mimport\u001b[0m \u001b[0muserdata\u001b[0m\u001b[0;34m\u001b[0m\u001b[0;34m\u001b[0m\u001b[0m\n\u001b[1;32m      3\u001b[0m \u001b[0muserdata\u001b[0m\u001b[0;34m.\u001b[0m\u001b[0mget\u001b[0m\u001b[0;34m(\u001b[0m\u001b[0;34m'chatgpt'\u001b[0m\u001b[0;34m)\u001b[0m\u001b[0;34m\u001b[0m\u001b[0;34m\u001b[0m\u001b[0m\n\u001b[0;32m----> 4\u001b[0;31m \u001b[0mservice_context\u001b[0m \u001b[0;34m=\u001b[0m \u001b[0mServiceContext\u001b[0m\u001b[0;34m.\u001b[0m\u001b[0mfrom_defaults\u001b[0m\u001b[0;34m(\u001b[0m\u001b[0mllm\u001b[0m\u001b[0;34m=\u001b[0m\u001b[0mllm\u001b[0m\u001b[0;34m)\u001b[0m\u001b[0;34m\u001b[0m\u001b[0;34m\u001b[0m\u001b[0m\n\u001b[0m\u001b[1;32m      5\u001b[0m \u001b[0;34m\u001b[0m\u001b[0m\n\u001b[1;32m      6\u001b[0m \u001b[0mos\u001b[0m\u001b[0;34m.\u001b[0m\u001b[0menviron\u001b[0m\u001b[0;34m[\u001b[0m\u001b[0;34m\"OPENAI_API_KEY\"\u001b[0m\u001b[0;34m]\u001b[0m \u001b[0;34m=\u001b[0m \u001b[0muserdata\u001b[0m\u001b[0;34m.\u001b[0m\u001b[0mget\u001b[0m\u001b[0;34m(\u001b[0m\u001b[0;34m'chatgpt'\u001b[0m\u001b[0;34m)\u001b[0m\u001b[0;34m\u001b[0m\u001b[0;34m\u001b[0m\u001b[0m\n",
            "\u001b[0;31mNameError\u001b[0m: name 'llm' is not defined"
          ]
        }
      ],
      "source": [
        "import os\n",
        "from google.colab import userdata\n",
        "userdata.get('chatgpt')\n",
        "\n",
        "os.environ[\"OPENAI_API_KEY\"] = userdata.get('chatgpt')"
      ]
    },
    {
      "cell_type": "code",
      "execution_count": 61,
      "id": "c4ec8b0a-d5fa-4f74-a2cc-5cc52e009bc6",
      "metadata": {
        "id": "c4ec8b0a-d5fa-4f74-a2cc-5cc52e009bc6",
        "outputId": "4d41aa23-6308-4fbe-b272-e74ad68fef4d",
        "colab": {
          "base_uri": "https://localhost:8080/",
          "height": 367
        }
      },
      "outputs": [
        {
          "output_type": "error",
          "ename": "ValueError",
          "evalue": "ServiceContext is deprecated. Use llama_index.settings.Settings instead, or pass in modules to local functions/methods/interfaces.\nSee the docs for updated usage/migration: \nhttps://docs.llamaindex.ai/en/stable/module_guides/supporting_modules/service_context_migration/",
          "traceback": [
            "\u001b[0;31m---------------------------------------------------------------------------\u001b[0m",
            "\u001b[0;31mValueError\u001b[0m                                Traceback (most recent call last)",
            "\u001b[0;32m<ipython-input-61-e641faa982fc>\u001b[0m in \u001b[0;36m<cell line: 4>\u001b[0;34m()\u001b[0m\n\u001b[1;32m      2\u001b[0m \u001b[0mllm\u001b[0m \u001b[0;34m=\u001b[0m \u001b[0mOpenAI\u001b[0m\u001b[0;34m(\u001b[0m\u001b[0mtemperature\u001b[0m\u001b[0;34m=\u001b[0m\u001b[0;36m0.2\u001b[0m\u001b[0;34m,\u001b[0m \u001b[0mmodel\u001b[0m\u001b[0;34m=\u001b[0m\u001b[0;34m\"gpt-3.5-turbo\"\u001b[0m\u001b[0;34m)\u001b[0m\u001b[0;34m\u001b[0m\u001b[0;34m\u001b[0m\u001b[0m\n\u001b[1;32m      3\u001b[0m \u001b[0mSettings\u001b[0m\u001b[0;34m.\u001b[0m\u001b[0mllm\u001b[0m \u001b[0;34m=\u001b[0m \u001b[0mOpenAI\u001b[0m\u001b[0;34m(\u001b[0m\u001b[0mtemperature\u001b[0m\u001b[0;34m=\u001b[0m\u001b[0;36m0.2\u001b[0m\u001b[0;34m,\u001b[0m \u001b[0mmodel\u001b[0m\u001b[0;34m=\u001b[0m\u001b[0;34m\"gpt-3.5-turbo\"\u001b[0m\u001b[0;34m)\u001b[0m\u001b[0;34m\u001b[0m\u001b[0;34m\u001b[0m\u001b[0m\n\u001b[0;32m----> 4\u001b[0;31m \u001b[0mservice_context\u001b[0m \u001b[0;34m=\u001b[0m \u001b[0mServiceContext\u001b[0m\u001b[0;34m.\u001b[0m\u001b[0mfrom_defaults\u001b[0m\u001b[0;34m(\u001b[0m\u001b[0mllm\u001b[0m\u001b[0;34m=\u001b[0m\u001b[0mllm\u001b[0m\u001b[0;34m)\u001b[0m\u001b[0;34m\u001b[0m\u001b[0;34m\u001b[0m\u001b[0m\n\u001b[0m\u001b[1;32m      5\u001b[0m \u001b[0;34m\u001b[0m\u001b[0m\n",
            "\u001b[0;32m/usr/local/lib/python3.10/dist-packages/llama_index/core/service_context.py\u001b[0m in \u001b[0;36mfrom_defaults\u001b[0;34m(cls, **kwargs)\u001b[0m\n\u001b[1;32m     29\u001b[0m \u001b[0;34m\u001b[0m\u001b[0m\n\u001b[1;32m     30\u001b[0m         \"\"\"\n\u001b[0;32m---> 31\u001b[0;31m         raise ValueError(\n\u001b[0m\u001b[1;32m     32\u001b[0m             \u001b[0;34m\"ServiceContext is deprecated. Use llama_index.settings.Settings instead, \"\u001b[0m\u001b[0;34m\u001b[0m\u001b[0;34m\u001b[0m\u001b[0m\n\u001b[1;32m     33\u001b[0m             \u001b[0;34m\"or pass in modules to local functions/methods/interfaces.\\n\"\u001b[0m\u001b[0;34m\u001b[0m\u001b[0;34m\u001b[0m\u001b[0m\n",
            "\u001b[0;31mValueError\u001b[0m: ServiceContext is deprecated. Use llama_index.settings.Settings instead, or pass in modules to local functions/methods/interfaces.\nSee the docs for updated usage/migration: \nhttps://docs.llamaindex.ai/en/stable/module_guides/supporting_modules/service_context_migration/"
          ]
        }
      ],
      "source": [
        "from llama_index.core import Settings\n",
        "llm = OpenAI(temperature=0.2, model=\"gpt-3.5-turbo\")\n",
        "Settings.llm = OpenAI(temperature=0.2, model=\"gpt-3.5-turbo\")\n",
        "\n"
      ]
    },
    {
      "cell_type": "markdown",
      "id": "8c69f38a",
      "metadata": {
        "id": "8c69f38a"
      },
      "source": [
        "## Download Data"
      ]
    },
    {
      "cell_type": "code",
      "execution_count": 56,
      "id": "7db55c79",
      "metadata": {
        "id": "7db55c79",
        "outputId": "d1403759-74ac-49c2-e5e6-e145f4e96223",
        "colab": {
          "base_uri": "https://localhost:8080/"
        }
      },
      "outputs": [
        {
          "output_type": "stream",
          "name": "stdout",
          "text": [
            "--2024-12-17 04:16:28--  https://raw.githubusercontent.com/run-llama/llama_index/main/docs/docs/examples/data/10k/uber_2021.pdf\n",
            "Resolving raw.githubusercontent.com (raw.githubusercontent.com)... 185.199.108.133, 185.199.109.133, 185.199.110.133, ...\n",
            "Connecting to raw.githubusercontent.com (raw.githubusercontent.com)|185.199.108.133|:443... connected.\n",
            "HTTP request sent, awaiting response... 200 OK\n",
            "Length: 1880483 (1.8M) [application/octet-stream]\n",
            "Saving to: ‘data/10k/uber_2021.pdf’\n",
            "\n",
            "data/10k/uber_2021. 100%[===================>]   1.79M  --.-KB/s    in 0.09s   \n",
            "\n",
            "2024-12-17 04:16:29 (18.9 MB/s) - ‘data/10k/uber_2021.pdf’ saved [1880483/1880483]\n",
            "\n",
            "--2024-12-17 04:16:29--  https://raw.githubusercontent.com/run-llama/llama_index/main/docs/docs/examples/data/10k/lyft_2021.pdf\n",
            "Resolving raw.githubusercontent.com (raw.githubusercontent.com)... 185.199.108.133, 185.199.109.133, 185.199.110.133, ...\n",
            "Connecting to raw.githubusercontent.com (raw.githubusercontent.com)|185.199.108.133|:443... connected.\n",
            "HTTP request sent, awaiting response... 200 OK\n",
            "Length: 1440303 (1.4M) [application/octet-stream]\n",
            "Saving to: ‘data/10k/lyft_2021.pdf’\n",
            "\n",
            "data/10k/lyft_2021. 100%[===================>]   1.37M  --.-KB/s    in 0.09s   \n",
            "\n",
            "2024-12-17 04:16:29 (15.3 MB/s) - ‘data/10k/lyft_2021.pdf’ saved [1440303/1440303]\n",
            "\n"
          ]
        }
      ],
      "source": [
        "!mkdir -p 'data/10k/'\n",
        "!wget 'https://raw.githubusercontent.com/run-llama/llama_index/main/docs/docs/examples/data/10k/uber_2021.pdf' -O 'data/10k/uber_2021.pdf'\n",
        "!wget 'https://raw.githubusercontent.com/run-llama/llama_index/main/docs/docs/examples/data/10k/lyft_2021.pdf' -O 'data/10k/lyft_2021.pdf'"
      ]
    },
    {
      "cell_type": "markdown",
      "id": "71fddd07-ff4c-44d4-82af-64e2e416e853",
      "metadata": {
        "id": "71fddd07-ff4c-44d4-82af-64e2e416e853"
      },
      "source": [
        "## Load data"
      ]
    },
    {
      "cell_type": "code",
      "execution_count": 65,
      "id": "dd0ba028-1e70-4164-8af1-5f1df0ea76a9",
      "metadata": {
        "id": "dd0ba028-1e70-4164-8af1-5f1df0ea76a9",
        "outputId": "240aaddb-5c14-4702-f833-46d0fc77a667",
        "colab": {
          "base_uri": "https://localhost:8080/"
        }
      },
      "outputs": [
        {
          "output_type": "stream",
          "name": "stdout",
          "text": [
            "Mounted at /content/drive\n"
          ]
        }
      ],
      "source": [
        "from google.colab import drive\n",
        "drive.mount('/content/drive')\n",
        "\n",
        "lyft_docs = SimpleDirectoryReader(\n",
        "    input_files=[\"/content/drive/My Drive/A9/Lyft10Q2024Q3.pdf\"]\n",
        ").load_data()\n",
        "uber_docs = SimpleDirectoryReader(\n",
        "    input_files=[\"/content/drive/My Drive/A9/Uber10Q2024Q3.pdf\"]\n",
        ").load_data()"
      ]
    },
    {
      "cell_type": "markdown",
      "id": "fd122d0d-2da6-4f46-aa2a-8a0049ad8694",
      "metadata": {
        "id": "fd122d0d-2da6-4f46-aa2a-8a0049ad8694"
      },
      "source": [
        "## Build indices"
      ]
    },
    {
      "cell_type": "code",
      "execution_count": 66,
      "id": "1e0b6e4c-2255-42cf-be88-0fe75a945d85",
      "metadata": {
        "id": "1e0b6e4c-2255-42cf-be88-0fe75a945d85"
      },
      "outputs": [],
      "source": [
        "lyft_index = VectorStoreIndex.from_documents(lyft_docs)"
      ]
    },
    {
      "cell_type": "code",
      "execution_count": 67,
      "id": "a606df9c-ed2d-46fb-943e-ac47d24ba412",
      "metadata": {
        "id": "a606df9c-ed2d-46fb-943e-ac47d24ba412"
      },
      "outputs": [],
      "source": [
        "uber_index = VectorStoreIndex.from_documents(uber_docs)"
      ]
    },
    {
      "cell_type": "markdown",
      "id": "668dffa8-1eb3-4209-913a-ed7debe7bee8",
      "metadata": {
        "id": "668dffa8-1eb3-4209-913a-ed7debe7bee8"
      },
      "source": [
        "## Build query engines"
      ]
    },
    {
      "cell_type": "code",
      "execution_count": 68,
      "id": "82466534-c3d8-4619-ab1b-4abcd05c8ba7",
      "metadata": {
        "id": "82466534-c3d8-4619-ab1b-4abcd05c8ba7"
      },
      "outputs": [],
      "source": [
        "lyft_engine = lyft_index.as_query_engine(similarity_top_k=3)"
      ]
    },
    {
      "cell_type": "code",
      "execution_count": 69,
      "id": "ff449977-2c7c-433f-b303-ff1d7b66c7b3",
      "metadata": {
        "id": "ff449977-2c7c-433f-b303-ff1d7b66c7b3"
      },
      "outputs": [],
      "source": [
        "uber_engine = uber_index.as_query_engine(similarity_top_k=3)"
      ]
    },
    {
      "cell_type": "code",
      "execution_count": 73,
      "id": "8775650f-b164-478c-8129-9a8e6a0cdc97",
      "metadata": {
        "id": "8775650f-b164-478c-8129-9a8e6a0cdc97"
      },
      "outputs": [],
      "source": [
        "query_engine_tools = [\n",
        "    QueryEngineTool(\n",
        "        query_engine=lyft_engine,\n",
        "        metadata=ToolMetadata(\n",
        "            name=\"lyft_10q\",\n",
        "            description=(\n",
        "                \"Provides information about Lyft financials for Q3 2024\"\n",
        "            ),\n",
        "        ),\n",
        "    ),\n",
        "    QueryEngineTool(\n",
        "        query_engine=uber_engine,\n",
        "        metadata=ToolMetadata(\n",
        "            name=\"uber_10q\",\n",
        "            description=(\n",
        "                \"Provides information about Uber financials for Q3 2024\"\n",
        "            ),\n",
        "        ),\n",
        "    ),\n",
        "]\n",
        "\n",
        "s_engine = SubQuestionQueryEngine.from_defaults(\n",
        "    query_engine_tools=query_engine_tools\n",
        ")"
      ]
    },
    {
      "cell_type": "markdown",
      "id": "6981caf5-38bb-4d5e-9068-b4874c62bfc9",
      "metadata": {
        "id": "6981caf5-38bb-4d5e-9068-b4874c62bfc9"
      },
      "source": [
        "## Run queries"
      ]
    },
    {
      "cell_type": "code",
      "execution_count": 74,
      "id": "edd4bbb7-eef9-4b53-b05d-f91033635ac2",
      "metadata": {
        "id": "edd4bbb7-eef9-4b53-b05d-f91033635ac2",
        "outputId": "256a44ba-2dc4-421c-a849-9ee8cc8509c6",
        "colab": {
          "base_uri": "https://localhost:8080/"
        }
      },
      "outputs": [
        {
          "output_type": "stream",
          "name": "stdout",
          "text": [
            "Generated 4 sub questions.\n",
            "\u001b[1;3;38;2;237;90;200m[lyft_10q] Q: What were the customer segments that grew the fastest for Lyft in Q3 2024?\n",
            "\u001b[0m\u001b[1;3;38;2;90;149;237m[lyft_10q] Q: What were the geographies that grew the fastest for Lyft in Q3 2024?\n",
            "\u001b[0m\u001b[1;3;38;2;11;159;203m[uber_10q] Q: What were the customer segments that grew the fastest for Uber in Q3 2024?\n",
            "\u001b[0m\u001b[1;3;38;2;155;135;227m[uber_10q] Q: What were the geographies that grew the fastest for Uber in Q3 2024?\n",
            "\u001b[0m\u001b[1;3;38;2;237;90;200m[lyft_10q] A: In Q3 2024, the customer segments that grew the fastest for Lyft were women and nonbinary drivers and riders, as indicated by the launch and extension of the Women+ Connect feature nationwide.\n",
            "\u001b[0m\u001b[1;3;38;2;155;135;227m[uber_10q] A: Chicago, Los Angeles, New York City in the United States, Sao Paulo in Brazil, and London in the United Kingdom were the geographies that grew the fastest for Uber in Q3 2024.\n",
            "\u001b[0m\u001b[1;3;38;2;11;159;203m[uber_10q] A: The customer segments that grew the fastest for Uber in Q3 2024 were Mobility and Delivery.\n",
            "\u001b[0m\u001b[1;3;38;2;90;149;237m[lyft_10q] A: The geographies that grew the fastest for Lyft in Q3 2024 were not explicitly mentioned in the provided context information.\n",
            "\u001b[0m"
          ]
        }
      ],
      "source": [
        "response = s_engine.query(\n",
        "    \"Compare and contrast the customer segments and geographies that grew the\"\n",
        "    \" fastest\"\n",
        ")"
      ]
    },
    {
      "cell_type": "code",
      "execution_count": 72,
      "id": "b631d68b-dd17-4afd-9ed7-da0131041c8b",
      "metadata": {
        "id": "b631d68b-dd17-4afd-9ed7-da0131041c8b",
        "outputId": "b4405ce2-b38f-4c4c-d11a-2845826f8073",
        "colab": {
          "base_uri": "https://localhost:8080/"
        }
      },
      "outputs": [
        {
          "output_type": "stream",
          "name": "stdout",
          "text": [
            "The customer segments that experienced the fastest growth for Lyft in 2021 were Active Riders and Rides, while for Uber, it was the Delivery segment and the Mobility segment. In terms of geographies, Lyft expanded into new areas with the help of existing rider referrals, whereas Uber saw significant growth in cities like Chicago, Los Angeles, New York City in the United States, Sao Paulo in Brazil, and London in the United Kingdom.\n"
          ]
        }
      ],
      "source": [
        "print(response)"
      ]
    },
    {
      "cell_type": "code",
      "execution_count": 80,
      "id": "6bbbdd5b-0076-48c8-b233-e2ba43d7a6de",
      "metadata": {
        "id": "6bbbdd5b-0076-48c8-b233-e2ba43d7a6de",
        "outputId": "2d04770f-b732-42c6-d05e-4b7c35b12ebf",
        "colab": {
          "base_uri": "https://localhost:8080/"
        }
      },
      "outputs": [
        {
          "output_type": "stream",
          "name": "stdout",
          "text": [
            "Generated 2 sub questions.\n",
            "\u001b[1;3;38;2;237;90;200m[lyft_10q] Q: What is Lyft's total liabilities for Q3 2024?\n",
            "\u001b[0m\u001b[1;3;38;2;90;149;237m[uber_10q] Q: What is Uber's total liabilities for Q3 2024?\n",
            "\u001b[0m\u001b[1;3;38;2;237;90;200m[lyft_10q] A: Lyft's total liabilities for Q3 2024 are $4,607,376.\n",
            "\u001b[0m\u001b[1;3;38;2;90;149;237m[uber_10q] A: Uber's total liabilities for Q3 2024 were $30,578 million.\n",
            "\u001b[0m"
          ]
        }
      ],
      "source": [
        "response = s_engine.query(\n",
        "    \"Looking at Uber's balance sheet, what is Uber's total liabilities?\"\n",
        ")"
      ]
    },
    {
      "cell_type": "code",
      "source": [
        "import pandas as pd\n",
        "from tabulate import tabulate\n",
        "\n",
        "s_engine = SubQuestionQueryEngine.from_defaults(query_engine_tools=query_engine_tools)\n",
        "\n",
        "metrics = [\n",
        "    \"revenue\",\n",
        "    \"net income\",\n",
        "    \"operating income\",\n",
        "    \"total assets\",\n",
        "    \"total liabilities from balance sheet\",\n",
        "    \"total debt\",\n",
        "    \"total stockholders' equity\"\n",
        "    \"gross profit margin\",\n",
        "    \"price/earnings ratio\",\n",
        "    \"return on equity\",\n",
        "    \"working capital\",\n",
        "    \"operating cash flow\"\n",
        "]\n",
        "\n",
        "report_data = []\n",
        "for metric in metrics:\n",
        "    response_lyft = s_engine.query(f\"What is the {metric} for Lyft in Q3 2024? Answer only in integer or NA.\")\n",
        "    response_uber = s_engine.query(f\"What is the {metric} for Uber in Q3 2024? Answer only in integer or NA.\")\n",
        "    report_data.append([\n",
        "        metric,\n",
        "        response_lyft.response,\n",
        "        response_uber.response\n",
        "        ])"
      ],
      "metadata": {
        "id": "gpOgAhbGwbw4",
        "outputId": "3c35d10f-4f3e-4012-bac1-bec13bf510d9",
        "colab": {
          "base_uri": "https://localhost:8080/"
        }
      },
      "id": "gpOgAhbGwbw4",
      "execution_count": 81,
      "outputs": [
        {
          "output_type": "stream",
          "name": "stdout",
          "text": [
            "Generated 1 sub questions.\n",
            "\u001b[1;3;38;2;237;90;200m[lyft_10q] Q: What is the revenue for Lyft in Q3 2024?\n",
            "\u001b[0m\u001b[1;3;38;2;237;90;200m[lyft_10q] A: The revenue for Lyft in Q3 2024 was $1,522,692,000.\n",
            "\u001b[0mGenerated 1 sub questions.\n",
            "\u001b[1;3;38;2;237;90;200m[uber_10q] Q: What is the revenue for Uber in Q3 2024?\n",
            "\u001b[0m\u001b[1;3;38;2;237;90;200m[uber_10q] A: $11,188 million\n",
            "\u001b[0mGenerated 1 sub questions.\n",
            "\u001b[1;3;38;2;237;90;200m[lyft_10q] Q: What is the net income for Lyft in Q3 2024?\n",
            "\u001b[0m\u001b[1;3;38;2;237;90;200m[lyft_10q] A: Lyft achieved a net income for the first time in its operating history in the second quarter of 2024.\n",
            "\u001b[0mGenerated 1 sub questions.\n",
            "\u001b[1;3;38;2;237;90;200m[uber_10q] Q: What is the net income for Uber in Q3 2024?\n",
            "\u001b[0m\u001b[1;3;38;2;237;90;200m[uber_10q] A: $2.6 billion.\n",
            "\u001b[0mGenerated 1 sub questions.\n",
            "\u001b[1;3;38;2;237;90;200m[lyft_10q] Q: What is the operating income for Lyft in Q3 2024?\n",
            "\u001b[0m\u001b[1;3;38;2;237;90;200m[lyft_10q] A: The operating income for Lyft in Q3 2024 is a loss of $56,687,000.\n",
            "\u001b[0mGenerated 1 sub questions.\n",
            "\u001b[1;3;38;2;237;90;200m[uber_10q] Q: What is the operating income for Uber in Q3 2024?\n",
            "\u001b[0m\u001b[1;3;38;2;237;90;200m[uber_10q] A: The operating income for Uber in Q3 2024 is $1.061 billion.\n",
            "\u001b[0mGenerated 1 sub questions.\n",
            "\u001b[1;3;38;2;237;90;200m[lyft_10q] Q: What is the total assets for Lyft in Q3 2024?\n",
            "\u001b[0m\u001b[1;3;38;2;237;90;200m[lyft_10q] A: $5,263,155\n",
            "\u001b[0mGenerated 2 sub questions.\n",
            "\u001b[1;3;38;2;237;90;200m[lyft_10q] Q: What are the total assets for Lyft in Q3 2024?\n",
            "\u001b[0m\u001b[1;3;38;2;90;149;237m[uber_10q] Q: What are the total assets for Uber in Q3 2024?\n",
            "\u001b[0m\u001b[1;3;38;2;237;90;200m[lyft_10q] A: The total assets for Lyft in Q3 2024 amount to $5,263,155.\n",
            "\u001b[0m\u001b[1;3;38;2;90;149;237m[uber_10q] A: The total assets for Uber in Q3 2024 amount to $47,117 million.\n",
            "\u001b[0mGenerated 1 sub questions.\n",
            "\u001b[1;3;38;2;237;90;200m[lyft_10q] Q: What is the total liabilities from balance sheet for Lyft in Q3 2024? Answer only in integer or NA.\n",
            "\u001b[0m\u001b[1;3;38;2;237;90;200m[lyft_10q] A: 4607376\n",
            "\u001b[0mGenerated 1 sub questions.\n",
            "\u001b[1;3;38;2;237;90;200m[uber_10q] Q: What is the total liabilities from balance sheet for Uber in Q3 2024?\n",
            "\u001b[0m\u001b[1;3;38;2;237;90;200m[uber_10q] A: The total liabilities from the balance sheet for Uber in Q3 2024 amount to $30,578 million.\n",
            "\u001b[0mGenerated 1 sub questions.\n",
            "\u001b[1;3;38;2;237;90;200m[lyft_10q] Q: What is the debt to equity ratio for Lyft in Q3 2024?\n",
            "\u001b[0m\u001b[1;3;38;2;237;90;200m[lyft_10q] A: The debt to equity ratio for Lyft in Q3 2024 is 7.02.\n",
            "\u001b[0mGenerated 1 sub questions.\n",
            "\u001b[1;3;38;2;237;90;200m[uber_10q] Q: What is the debt to equity ratio for Uber in Q3 2024?\n",
            "\u001b[0m\u001b[1;3;38;2;237;90;200m[uber_10q] A: The debt to equity ratio for Uber in Q3 2024 cannot be determined with the provided context information.\n",
            "\u001b[0mGenerated 1 sub questions.\n",
            "\u001b[1;3;38;2;237;90;200m[lyft_10q] Q: What is the gross profit margin for Lyft in Q3 2024?\n",
            "\u001b[0m\u001b[1;3;38;2;237;90;200m[lyft_10q] A: The gross profit margin for Lyft in Q3 2024 is 41.7%.\n",
            "\u001b[0mGenerated 2 sub questions.\n",
            "\u001b[1;3;38;2;237;90;200m[lyft_10q] Q: What is the gross profit margin for Lyft in Q3 2024?\n",
            "\u001b[0m\u001b[1;3;38;2;90;149;237m[uber_10q] Q: What is the gross profit margin for Uber in Q3 2024?\n",
            "\u001b[0m\u001b[1;3;38;2;237;90;200m[lyft_10q] A: The gross profit margin for Lyft in Q3 2024 is 41.7%.\n",
            "\u001b[0m\u001b[1;3;38;2;90;149;237m[uber_10q] A: The gross profit margin for Uber in Q3 2024 is 39%.\n",
            "\u001b[0mGenerated 1 sub questions.\n",
            "\u001b[1;3;38;2;237;90;200m[lyft_10q] Q: What is the price/earnings ratio for Lyft in Q3 2024?\n",
            "\u001b[0m\u001b[1;3;38;2;237;90;200m[lyft_10q] A: The price/earnings ratio for Lyft in Q3 2024 cannot be determined based on the provided context information.\n",
            "\u001b[0mGenerated 1 sub questions.\n",
            "\u001b[1;3;38;2;237;90;200m[uber_10q] Q: What is the price/earnings ratio for Uber in Q3 2024?\n",
            "\u001b[0m\u001b[1;3;38;2;237;90;200m[uber_10q] A: The price/earnings ratio for Uber in Q3 2024 cannot be determined based on the provided context information.\n",
            "\u001b[0mGenerated 1 sub questions.\n",
            "\u001b[1;3;38;2;237;90;200m[lyft_10q] Q: What is the return on equity for Lyft in Q3 2024?\n",
            "\u001b[0m\u001b[1;3;38;2;237;90;200m[lyft_10q] A: In Q3 2024, Lyft achieved net income for the first time in its operating history, indicating a positive net income for that quarter. This positive net income would contribute to Lyft's return on equity for Q3 2024.\n",
            "\u001b[0mGenerated 1 sub questions.\n",
            "\u001b[1;3;38;2;237;90;200m[uber_10q] Q: What is the return on equity for Uber in Q3 2024?\n",
            "\u001b[0m\u001b[1;3;38;2;237;90;200m[uber_10q] A: The return on equity for Uber in Q3 2024 is not provided in the context information.\n",
            "\u001b[0mGenerated 1 sub questions.\n",
            "\u001b[1;3;38;2;237;90;200m[lyft_10q] Q: What is the working capital for Lyft in Q3 2024?\n",
            "\u001b[0m\u001b[1;3;38;2;237;90;200m[lyft_10q] A: To determine the working capital for Lyft in Q3 2024, you would need to refer to the financial statements provided in the Quarterly Report on Form 10-Q for that period. The working capital can be calculated by subtracting current liabilities from current assets.\n",
            "\u001b[0mGenerated 1 sub questions.\n",
            "\u001b[1;3;38;2;237;90;200m[uber_10q] Q: What is the working capital for Uber in Q3 2024?\n",
            "\u001b[0m\u001b[1;3;38;2;237;90;200m[uber_10q] A: The working capital for Uber in Q3 2024 is considered to be sufficient to fund their working capital needs in the United States, as they believe their existing cash balance in the United States is enough to cover these requirements. They are also in compliance with their debt and line of credit covenants and have sources of funding and available credit lines that are expected to meet their cash requirements for at least the next 12 months.\n",
            "\u001b[0mGenerated 1 sub questions.\n",
            "\u001b[1;3;38;2;237;90;200m[lyft_10q] Q: What is the operating cash flow for Lyft in Q3 2024?\n",
            "\u001b[0m\u001b[1;3;38;2;237;90;200m[lyft_10q] A: The operating cash flow for Lyft in Q3 2024 was $264.0 million.\n",
            "\u001b[0mGenerated 1 sub questions.\n",
            "\u001b[1;3;38;2;237;90;200m[uber_10q] Q: What is the operating cash flow for Uber in Q3 2024?\n",
            "\u001b[0m\u001b[1;3;38;2;237;90;200m[uber_10q] A: The operating cash flow for Uber in Q3 2024 was $5.387 billion.\n",
            "\u001b[0m"
          ]
        }
      ]
    },
    {
      "cell_type": "code",
      "source": [
        "df = pd.DataFrame(report_data, columns=[\"Metric\", \"Lyft\", \"Uber\"])\n",
        "print(tabulate(df, headers='keys', tablefmt='psql'))"
      ],
      "metadata": {
        "id": "YZbk2NfbCz1L",
        "outputId": "ccf7d683-b4d4-4b17-efa2-17963bb786d1",
        "colab": {
          "base_uri": "https://localhost:8080/"
        }
      },
      "id": "YZbk2NfbCz1L",
      "execution_count": 82,
      "outputs": [
        {
          "output_type": "stream",
          "name": "stdout",
          "text": [
            "+----+--------------------------------------+----------------+-----------------------------------------------------------------+\n",
            "|    | Metric                               | Lyft           | Uber                                                            |\n",
            "|----+--------------------------------------+----------------+-----------------------------------------------------------------|\n",
            "|  0 | revenue                              | $1,522,692,000 | $11,188 million                                                 |\n",
            "|  1 | net income                           | NA             | $2.6 billion                                                    |\n",
            "|  2 | operating income                     | -56687000      | $1.061 billion                                                  |\n",
            "|  3 | total assets                         | $5,263,155     | The total assets for Uber in Q3 2024 amount to $47,117,000,000. |\n",
            "|  4 | total liabilities from balance sheet | 4607376        | $30,578 million                                                 |\n",
            "|  5 | debt to equity ratio                 | 7              | NA                                                              |\n",
            "|  6 | gross profit margin                  | 42             | 39                                                              |\n",
            "|  7 | price/earnings ratio                 | NA             | NA                                                              |\n",
            "|  8 | return on equity                     | NA             | NA                                                              |\n",
            "|  9 | working capital                      | NA             | NA                                                              |\n",
            "| 10 | operating cash flow                  | $264 million   | $5.387 billion                                                  |\n",
            "+----+--------------------------------------+----------------+-----------------------------------------------------------------+\n"
          ]
        }
      ]
    },
    {
      "cell_type": "code",
      "execution_count": 63,
      "id": "fadf421e-5938-4031-81df-cfbfd347b674",
      "metadata": {
        "id": "fadf421e-5938-4031-81df-cfbfd347b674",
        "outputId": "cf586997-0d6d-437e-be27-bba693978c6f",
        "colab": {
          "base_uri": "https://localhost:8080/"
        }
      },
      "outputs": [
        {
          "output_type": "stream",
          "name": "stdout",
          "text": [
            "The operating cash flow for Lyft in 2021 was a net cash used of $101,721,000, and for Uber in 2021, it was $(445) million.\n"
          ]
        }
      ],
      "source": [
        "print(response)"
      ]
    },
    {
      "cell_type": "markdown",
      "source": [
        "Items to report:\n",
        "- revenue\n",
        "- net income\n",
        "- operating income\n",
        "- total assets\n",
        "- total liabilities\n",
        "- debt to equity ratio = total debt / shareholder's equity\n",
        "- gross profit margin = (net income/revenue) x 100%\n",
        "- price/earnings ratio = share price / earnings per share\n",
        "- return on equity\n",
        "- working capital\n",
        "- operting cash flow\n"
      ],
      "metadata": {
        "id": "5EXVL5spsIU4"
      },
      "id": "5EXVL5spsIU4"
    },
    {
      "cell_type": "code",
      "source": [],
      "metadata": {
        "id": "UfGI2SdjsH_h"
      },
      "id": "UfGI2SdjsH_h",
      "execution_count": null,
      "outputs": []
    }
  ],
  "metadata": {
    "kernelspec": {
      "display_name": "Python 3 (ipykernel)",
      "language": "python",
      "name": "python3"
    },
    "language_info": {
      "codemirror_mode": {
        "name": "ipython",
        "version": 3
      },
      "file_extension": ".py",
      "mimetype": "text/x-python",
      "name": "python",
      "nbconvert_exporter": "python",
      "pygments_lexer": "ipython3"
    },
    "colab": {
      "provenance": []
    }
  },
  "nbformat": 4,
  "nbformat_minor": 5
}